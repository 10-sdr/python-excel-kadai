{
  "nbformat": 4,
  "nbformat_minor": 0,
  "metadata": {
    "colab": {
      "provenance": []
    },
    "kernelspec": {
      "name": "python3",
      "display_name": "Python 3"
    },
    "language_info": {
      "name": "python"
    }
  },
  "cells": [
    {
      "cell_type": "code",
      "execution_count": 5,
      "metadata": {
        "colab": {
          "base_uri": "https://localhost:8080/"
        },
        "id": "0p5DPgKMTanq",
        "outputId": "176f7051-20b8-44c3-961d-05356660954f"
      },
      "outputs": [
        {
          "name": "stdout",
          "output_type": "stream",
          "text": [
            "入力してください: 0001\n"
          ]
        }
      ],
      "source": [
        "import openpyxl\n",
        "import time\n",
        "import sys\n",
        "match_count = 0\n",
        "product_database = [['0001', '商品A', 2, 10000],\n",
        "        ['0002', '商品C' , 2, 1000000],\n",
        "        ['0001', '商品B', 1, 15000],\n",
        "        ['0002', '商品D', 6, 35000]\n",
        "        ]\n",
        "data = []\n",
        "product_code = input(\"入力してください: \")\n",
        "\n",
        "for i in range(len(product_database)):\n",
        "  if product_code == product_database[i][0]:\n",
        "    data.append(product_database[i])\n",
        "    match_count  += 1\n",
        "\n",
        "if match_count  == 0:\n",
        "    print(\"該当するデータがありません。終了します。\")\n",
        "    sys.exit()\n",
        "\n",
        "workbook = openpyxl.Workbook()\n",
        "ws = workbook.active\n",
        "\n",
        "ws['A2'] = '請求書'\n",
        "ws['A4'] = '株式会社ABC'\n",
        "ws['A5'] = '〒101-0022 東京都千代田区神田練塀町300'\n",
        "ws['A6'] = 'TEL:03-1234-5678 FAX:03-1234-5678'\n",
        "ws['A7'] = '担当者名:鈴木一郎 様'\n",
        "ws['E4'] = 'No.'\n",
        "ws['E5'] = '日付'\n",
        "ws['F4'] = product_code\n",
        "ws['F5'] = time.strftime(\"%Y/%m/%d\",time.localtime())\n",
        "\n",
        "header = ['商品名', '数量', '単価', '金額']\n",
        "ws.append(header)\n",
        "ws.insert_rows(8, 2)\n",
        "ws.insert_cols(1, 1)\n",
        "\n",
        "for row in data:\n",
        "  ws.append(row)\n",
        "\n",
        "for row in range(11, ws.max_row + 1):\n",
        "    ws[f\"A{row}\"].value = None\n",
        "\n",
        "sub_total = 0\n",
        "for i in range(0,len(data)):\n",
        "  amount = data[i][2] * data[i][3]\n",
        "  ws.cell(row=i + 11, column=5).value = amount\n",
        "  sub_total += amount\n",
        "\n",
        "ws.cell(row=ws.max_row + 1, column=5).value = sub_total\n",
        "\n",
        "tax_rate = 10\n",
        "def price(price_):\n",
        "  tax = price_ * tax_rate / 100\n",
        "  return int(price_ + tax),int(tax)\n",
        "\n",
        "including_tax, tax = price(sub_total)\n",
        "cell_max_row = ws.max_row\n",
        "\n",
        "ws.cell(row=cell_max_row + 2,column=2).value = '小計'\n",
        "ws.cell(row=cell_max_row + 2, column=5).value = sub_total\n",
        "ws.cell(row=cell_max_row + 3, column=2).value = '消費税'\n",
        "ws.cell(row=cell_max_row + 3, column=5).value = tax\n",
        "ws.cell(row=cell_max_row + 4,column=2).value = '合計'\n",
        "ws.cell(row=cell_max_row + 4, column=5).value = including_tax\n",
        "\n",
        "workbook.save('請求書_20250329.xlsx')"
      ]
    }
  ]
}