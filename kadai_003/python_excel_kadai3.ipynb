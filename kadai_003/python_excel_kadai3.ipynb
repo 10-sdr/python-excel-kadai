{
  "nbformat": 4,
  "nbformat_minor": 0,
  "metadata": {
    "colab": {
      "provenance": []
    },
    "kernelspec": {
      "name": "python3",
      "display_name": "Python 3"
    },
    "language_info": {
      "name": "python"
    }
  },
  "cells": [
    {
      "cell_type": "code",
      "execution_count": 47,
      "metadata": {
        "id": "uP9nmCwTreng"
      },
      "outputs": [],
      "source": [
        "import pandas as pd\n",
        "from openpyxl.styles import PatternFill\n",
        "from openpyxl import load_workbook\n",
        "file_list = ['2022_年間売上表.xlsx', '2023_年間売上表.xlsx']\n",
        "df = pd.DataFrame()\n",
        "\n",
        "for file_name in file_list:\n",
        "    temp_df = pd.read_excel(file_name, header=None)\n",
        "    temp_df = temp_df.iloc[1:]\n",
        "    df = pd.concat([df, temp_df], ignore_index=True)\n",
        "\n",
        "df.columns = ['売上年', '商品', '金額（千円）']\n",
        "df = df.groupby(['商品', '売上年']).agg({'金額（千円）': 'sum'}).reset_index()\n",
        "\n",
        "output_file = '売上集計表.xlsx'\n",
        "df.to_excel(output_file, sheet_name='Sheet1', index=False)\n",
        "\n",
        "wb = load_workbook(output_file)\n",
        "ws = wb['Sheet1']\n",
        "\n",
        "fill = PatternFill(patternType='solid', fgColor='FFF2F2F2')\n",
        "\n",
        "for row in ws['A1:C1']:\n",
        "    for cell in row:\n",
        "        cell.fill = fill\n",
        "\n",
        "wb.save(output_file)\n"
      ]
    }
  ]
}