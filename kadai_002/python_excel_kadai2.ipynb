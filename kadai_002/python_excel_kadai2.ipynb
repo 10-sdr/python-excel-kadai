{
  "nbformat": 4,
  "nbformat_minor": 0,
  "metadata": {
    "colab": {
      "provenance": []
    },
    "kernelspec": {
      "name": "python3",
      "display_name": "Python 3"
    },
    "language_info": {
      "name": "python"
    }
  },
  "cells": [
    {
      "cell_type": "code",
      "execution_count": 3,
      "metadata": {
        "id": "VCXSkAl6slmX"
      },
      "outputs": [],
      "source": [
        "import pandas as pd\n",
        "df = pd.DataFrame({\n",
        "    '日付':\n",
        "      ['2023-05-17', '2023-05-18', '2023-05-19', '2023-05-20', '2023-05-21'],\n",
        "    '社員名': ['山田', '佐藤', '鈴木', '田中', '高橋'],\n",
        "    '売上': [100, 200, 150, 300, 250],\n",
        "    '部門': ['メーカー', '代理店', 'メーカー', '商社', '代理店'],\n",
        "})\n",
        "\n",
        "def performance(sales):\n",
        "  average = df['売上'].mean()\n",
        "  if sales >= average + 50:\n",
        "    return 'A'\n",
        "  elif sales >= average and sales < average + 50:\n",
        "    return 'B'\n",
        "  elif sales <= average:\n",
        "    return 'C'\n",
        "\n",
        "df['平均売上'] = df['売上'].mean()\n",
        "df['業績ランク'] = df['売上'].apply(performance)\n",
        "\n",
        "writer = pd.ExcelWriter('業績.xlsx')\n",
        "df.to_excel(writer, sheet_name='Sheet1', index=False)\n",
        "writer.close()\n",
        "\n"
      ]
    }
  ]
}